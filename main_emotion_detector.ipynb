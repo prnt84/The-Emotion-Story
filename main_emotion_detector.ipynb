{
  "nbformat": 4,
  "nbformat_minor": 0,
  "metadata": {
    "colab": {
      "name": "main_emotion_detector.ipynb",
      "provenance": [],
      "collapsed_sections": [],
      "include_colab_link": true
    },
    "kernelspec": {
      "name": "python3",
      "display_name": "Python 3"
    },
    "accelerator": "GPU"
  },
  "cells": [
    {
      "cell_type": "markdown",
      "metadata": {
        "id": "view-in-github",
        "colab_type": "text"
      },
      "source": [
        "<a href=\"https://colab.research.google.com/github/prnt84/The-Emotion-Story/blob/main/main_emotion_detector.ipynb\" target=\"_parent\"><img src=\"https://colab.research.google.com/assets/colab-badge.svg\" alt=\"Open In Colab\"/></a>"
      ]
    },
    {
      "cell_type": "code",
      "metadata": {
        "id": "rYMaMhPxcaGN"
      },
      "source": [
        " #api to install kaggle datasets\n",
        " ! pip install -q kaggle "
      ],
      "execution_count": null,
      "outputs": []
    },
    {
      "cell_type": "code",
      "metadata": {
        "id": "z-jL4wMicoNr",
        "colab": {
          "resources": {
            "http://localhost:8080/nbextensions/google.colab/files.js": {
              "data": "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",
              "ok": true,
              "headers": [
                [
                  "content-type",
                  "application/javascript"
                ]
              ],
              "status": 200,
              "status_text": ""
            }
          },
          "base_uri": "https://localhost:8080/",
          "height": 91
        },
        "outputId": "ddd37b6c-3475-40b7-f576-430554b145ce"
      },
      "source": [
        "#uploading kaggle.json file \n",
        "from google.colab import files \n",
        "\n",
        "files.upload()"
      ],
      "execution_count": null,
      "outputs": [
        {
          "output_type": "display_data",
          "data": {
            "text/html": [
              "\n",
              "     <input type=\"file\" id=\"files-f028bbd8-8abf-4fc3-84e1-571f5571d8f0\" name=\"files[]\" multiple disabled\n",
              "        style=\"border:none\" />\n",
              "     <output id=\"result-f028bbd8-8abf-4fc3-84e1-571f5571d8f0\">\n",
              "      Upload widget is only available when the cell has been executed in the\n",
              "      current browser session. Please rerun this cell to enable.\n",
              "      </output>\n",
              "      <script src=\"/nbextensions/google.colab/files.js\"></script> "
            ],
            "text/plain": [
              "<IPython.core.display.HTML object>"
            ]
          },
          "metadata": {
            "tags": []
          }
        },
        {
          "output_type": "stream",
          "text": [
            "Saving kaggle.json to kaggle.json\n"
          ],
          "name": "stdout"
        },
        {
          "output_type": "execute_result",
          "data": {
            "text/plain": [
              "{'kaggle.json': b'{\"username\":\"praneeta8\",\"key\":\"703f18299b21929ffc7dc9c0fc04d2da\"}'}"
            ]
          },
          "metadata": {
            "tags": []
          },
          "execution_count": 2
        }
      ]
    },
    {
      "cell_type": "code",
      "metadata": {
        "id": "kN4611KXcvb4"
      },
      "source": [
        "#making a directory to store the kaggle file\n",
        "!mkdir -p ~/.kaggle \n",
        "! cp kaggle.json ~/.kaggle/ "
      ],
      "execution_count": null,
      "outputs": []
    },
    {
      "cell_type": "code",
      "metadata": {
        "id": "x6CpglqEc8QA"
      },
      "source": [
        "! chmod 600 ~/.kaggle/kaggle.json #changing the permissions"
      ],
      "execution_count": null,
      "outputs": []
    },
    {
      "cell_type": "code",
      "metadata": {
        "id": "nLHPRmd6dIJc",
        "colab": {
          "base_uri": "https://localhost:8080/"
        },
        "outputId": "0e85460c-2a81-46c5-da1f-ce5958e855b3"
      },
      "source": [
        "#importing the FER2013 dataset from kaggle link\n",
        "! kaggle datasets download -d deadskull7/fer2013 "
      ],
      "execution_count": null,
      "outputs": [
        {
          "output_type": "stream",
          "text": [
            "Downloading fer2013.zip to /content\n",
            " 84% 81.0M/96.6M [00:03<00:00, 21.5MB/s]\n",
            "100% 96.6M/96.6M [00:03<00:00, 31.9MB/s]\n"
          ],
          "name": "stdout"
        }
      ]
    },
    {
      "cell_type": "code",
      "metadata": {
        "id": "JuilTqESeH5e",
        "colab": {
          "base_uri": "https://localhost:8080/"
        },
        "outputId": "57d2d8ab-d9eb-4da9-ecd8-33e69b3fda4c"
      },
      "source": [
        "#unzipping the csv file\n",
        "!unzip \\*.zip  && rm *.zip"
      ],
      "execution_count": null,
      "outputs": [
        {
          "output_type": "stream",
          "text": [
            "Archive:  fer2013.zip\n",
            "  inflating: fer2013.csv             \n"
          ],
          "name": "stdout"
        }
      ]
    },
    {
      "cell_type": "code",
      "metadata": {
        "id": "Cslc5ubT-BVL",
        "colab": {
          "base_uri": "https://localhost:8080/"
        },
        "outputId": "b6a94169-3c92-40ba-a302-c4b70c727276"
      },
      "source": [
        "#importing the necessary libraries\n",
        "import os,cv2\n",
        "import numpy as np\n",
        "import pandas as pd\n",
        "import matplotlib.pyplot as plt\n",
        "import matplotlib.image as mpimg\n",
        "from pylab import rcParams\n",
        "rcParams['figure.figsize'] = 20, 10\n",
        "from sklearn.utils import shuffle\n",
        "from sklearn.model_selection import train_test_split\n",
        "import keras\n",
        "import tensorflow as tf\n",
        "from keras.utils import np_utils\n",
        "from keras import backend as K\n",
        "from keras.regularizers import l2\n",
        "from keras.models import Sequential\n",
        "from keras.layers import BatchNormalization\n",
        "from keras.layers.core import Dense, Dropout, Activation, Flatten\n",
        "from keras.layers.convolutional import Convolution2D, MaxPooling2D, AveragePooling2D\n",
        "from keras.optimizers import SGD,RMSprop,Adam\n",
        "\n",
        "#reading the csv file and storing it in dataframe df\n",
        "df=pd.read_csv('/content/fer2013.csv')\n",
        "\n",
        "#printing the first five elements of the dataframe\n",
        "print(df.head())\n",
        "#making lists for storing training data and validation data\n",
        "X_train,train_y,X_test,test_y=[],[],[],[] \n",
        "\n",
        "\n",
        "for index, row in df.iterrows():\n",
        "    val=row['pixels'].split(\" \") #pixels are separated and stored in val\n",
        "    try:\n",
        "      #if the Usage col contains 'Training' it is to be used for training \n",
        "        if 'Training' in row['Usage']: \n",
        "           X_train.append(np.array(val,'float32'))\n",
        "           train_y.append(row['emotion'])\n",
        "      #if the Usage col contains 'PublicTest' it is to be used for validation \n",
        "        elif 'PublicTest' in row['Usage']:\n",
        "           X_test.append(np.array(val,'float32'))\n",
        "           test_y.append(row['emotion'])\n",
        "    except:\n",
        "        print(f\"error occured at index :{index} and row:{row}\")\n",
        "\n",
        "#initializing the parameters \n",
        "num_features = 64\n",
        "num_labels = 7 #for seven emotions\n",
        "batch_size = 64 #64 images will be processed in each step\n",
        "epochs = 50 #50 cycles of training the data\n",
        "width, height = 48, 48 #of the images\n",
        "\n",
        "#converting the training and validation subsets into numpy array of data type float32\n",
        "X_train = np.array(X_train,'float32')\n",
        "train_y = np.array(train_y,'float32')\n",
        "X_test = np.array(X_test,'float32')\n",
        "test_y = np.array(test_y,'float32')\n",
        "\n",
        "#these contain the labels \n",
        "train_y=np_utils.to_categorical(train_y, num_classes=num_labels)\n",
        "test_y=np_utils.to_categorical(test_y, num_classes=num_labels)\n",
        "\n",
        "\n",
        "#normalizing data between 0 and 1\n",
        "X_train -= np.mean(X_train, axis=0)\n",
        "X_train /= np.std(X_train, axis=0)\n",
        "\n",
        "X_test -= np.mean(X_test, axis=0)\n",
        "X_test /= np.std(X_test, axis=0)\n",
        "\n",
        "X_train = X_train.reshape(X_train.shape[0], 48, 48, 1)\n",
        "\n",
        "X_test = X_test.reshape(X_test.shape[0], 48, 48, 1)\n",
        "\n",
        "print(f\"shape:{X_train.shape}\")\n"
      ],
      "execution_count": null,
      "outputs": [
        {
          "output_type": "stream",
          "text": [
            "   emotion                                             pixels     Usage\n",
            "0        0  70 80 82 72 58 58 60 63 54 58 60 48 89 115 121...  Training\n",
            "1        0  151 150 147 155 148 133 111 140 170 174 182 15...  Training\n",
            "2        2  231 212 156 164 174 138 161 173 182 200 106 38...  Training\n",
            "3        4  24 32 36 30 32 23 19 20 30 41 21 22 32 34 21 1...  Training\n",
            "4        6  4 0 0 0 0 0 0 0 0 0 0 0 3 15 23 28 48 50 58 84...  Training\n",
            "shape:(28709, 48, 48, 1)\n"
          ],
          "name": "stdout"
        }
      ]
    },
    {
      "cell_type": "code",
      "metadata": {
        "id": "xITY-N3kCw2Y",
        "colab": {
          "base_uri": "https://localhost:8080/"
        },
        "outputId": "2c8cbd28-3bc8-4e9f-eedd-9d8c8dac963f"
      },
      "source": [
        "#the architecture of the deep cnn model\n",
        "\n",
        "model = Sequential()\n",
        "model.add(Convolution2D(num_features, kernel_size=(3, 3), activation='relu', input_shape=(width, height, 1), data_format='channels_last', kernel_regularizer=l2(0.01)))\n",
        "model.add(Convolution2D(num_features, kernel_size=(3, 3), activation='relu', padding='same'))\n",
        "model.add(BatchNormalization())\n",
        "model.add(MaxPooling2D(pool_size=(2, 2), strides=(2, 2)))\n",
        "model.add(Dropout(0.5))\n",
        "\n",
        "model.add(Convolution2D(2*num_features, kernel_size=(3, 3), activation='relu', padding='same'))\n",
        "model.add(BatchNormalization())\n",
        "model.add(Convolution2D(2*num_features, kernel_size=(3, 3), activation='relu', padding='same'))\n",
        "model.add(BatchNormalization())\n",
        "model.add(MaxPooling2D(pool_size=(2, 2), strides=(2, 2)))\n",
        "model.add(Dropout(0.5))\n",
        "\n",
        "model.add(Convolution2D(2*2*num_features, kernel_size=(3, 3), activation='relu', padding='same'))\n",
        "model.add(BatchNormalization())\n",
        "model.add(Convolution2D(2*2*num_features, kernel_size=(3, 3), activation='relu', padding='same'))\n",
        "model.add(BatchNormalization())\n",
        "model.add(MaxPooling2D(pool_size=(2, 2), strides=(2, 2)))\n",
        "model.add(Dropout(0.5))\n",
        "\n",
        "model.add(Convolution2D(2*2*2*num_features, kernel_size=(3, 3), activation='relu', padding='same'))\n",
        "model.add(BatchNormalization())\n",
        "model.add(Convolution2D(2*2*2*num_features, kernel_size=(3, 3), activation='relu', padding='same'))\n",
        "model.add(BatchNormalization())\n",
        "model.add(MaxPooling2D(pool_size=(2, 2), strides=(2, 2)))\n",
        "model.add(Dropout(0.5))\n",
        "\n",
        "model.add(Flatten())\n",
        "\n",
        "#fully connected layers\n",
        "model.add(Dense(2*2*2*num_features, activation='relu'))\n",
        "model.add(Dropout(0.4))\n",
        "model.add(Dense(2*2*num_features, activation='relu'))\n",
        "model.add(Dropout(0.4))\n",
        "model.add(Dense(2*num_features, activation='relu'))\n",
        "model.add(Dropout(0.5))\n",
        "\n",
        "model.add(Dense(num_labels, activation='softmax'))\n",
        "model.summary() #information about the layers"
      ],
      "execution_count": null,
      "outputs": [
        {
          "output_type": "stream",
          "text": [
            "Model: \"sequential\"\n",
            "_________________________________________________________________\n",
            "Layer (type)                 Output Shape              Param #   \n",
            "=================================================================\n",
            "conv2d (Conv2D)              (None, 46, 46, 64)        640       \n",
            "_________________________________________________________________\n",
            "conv2d_1 (Conv2D)            (None, 46, 46, 64)        36928     \n",
            "_________________________________________________________________\n",
            "batch_normalization (BatchNo (None, 46, 46, 64)        256       \n",
            "_________________________________________________________________\n",
            "max_pooling2d (MaxPooling2D) (None, 23, 23, 64)        0         \n",
            "_________________________________________________________________\n",
            "dropout (Dropout)            (None, 23, 23, 64)        0         \n",
            "_________________________________________________________________\n",
            "conv2d_2 (Conv2D)            (None, 23, 23, 128)       73856     \n",
            "_________________________________________________________________\n",
            "batch_normalization_1 (Batch (None, 23, 23, 128)       512       \n",
            "_________________________________________________________________\n",
            "conv2d_3 (Conv2D)            (None, 23, 23, 128)       147584    \n",
            "_________________________________________________________________\n",
            "batch_normalization_2 (Batch (None, 23, 23, 128)       512       \n",
            "_________________________________________________________________\n",
            "max_pooling2d_1 (MaxPooling2 (None, 11, 11, 128)       0         \n",
            "_________________________________________________________________\n",
            "dropout_1 (Dropout)          (None, 11, 11, 128)       0         \n",
            "_________________________________________________________________\n",
            "conv2d_4 (Conv2D)            (None, 11, 11, 256)       295168    \n",
            "_________________________________________________________________\n",
            "batch_normalization_3 (Batch (None, 11, 11, 256)       1024      \n",
            "_________________________________________________________________\n",
            "conv2d_5 (Conv2D)            (None, 11, 11, 256)       590080    \n",
            "_________________________________________________________________\n",
            "batch_normalization_4 (Batch (None, 11, 11, 256)       1024      \n",
            "_________________________________________________________________\n",
            "max_pooling2d_2 (MaxPooling2 (None, 5, 5, 256)         0         \n",
            "_________________________________________________________________\n",
            "dropout_2 (Dropout)          (None, 5, 5, 256)         0         \n",
            "_________________________________________________________________\n",
            "conv2d_6 (Conv2D)            (None, 5, 5, 512)         1180160   \n",
            "_________________________________________________________________\n",
            "batch_normalization_5 (Batch (None, 5, 5, 512)         2048      \n",
            "_________________________________________________________________\n",
            "conv2d_7 (Conv2D)            (None, 5, 5, 512)         2359808   \n",
            "_________________________________________________________________\n",
            "batch_normalization_6 (Batch (None, 5, 5, 512)         2048      \n",
            "_________________________________________________________________\n",
            "max_pooling2d_3 (MaxPooling2 (None, 2, 2, 512)         0         \n",
            "_________________________________________________________________\n",
            "dropout_3 (Dropout)          (None, 2, 2, 512)         0         \n",
            "_________________________________________________________________\n",
            "flatten (Flatten)            (None, 2048)              0         \n",
            "_________________________________________________________________\n",
            "dense (Dense)                (None, 512)               1049088   \n",
            "_________________________________________________________________\n",
            "dropout_4 (Dropout)          (None, 512)               0         \n",
            "_________________________________________________________________\n",
            "dense_1 (Dense)              (None, 256)               131328    \n",
            "_________________________________________________________________\n",
            "dropout_5 (Dropout)          (None, 256)               0         \n",
            "_________________________________________________________________\n",
            "dense_2 (Dense)              (None, 128)               32896     \n",
            "_________________________________________________________________\n",
            "dropout_6 (Dropout)          (None, 128)               0         \n",
            "_________________________________________________________________\n",
            "dense_3 (Dense)              (None, 7)                 903       \n",
            "=================================================================\n",
            "Total params: 5,905,863\n",
            "Trainable params: 5,902,151\n",
            "Non-trainable params: 3,712\n",
            "_________________________________________________________________\n"
          ],
          "name": "stdout"
        }
      ]
    },
    {
      "cell_type": "code",
      "metadata": {
        "id": "ta9owp_tJeGP",
        "colab": {
          "base_uri": "https://localhost:8080/"
        },
        "outputId": "0f820568-0930-42e0-bb79-77a96652db6e"
      },
      "source": [
        "#Compliling the model\n",
        "model.compile(loss=tf.keras.losses.categorical_crossentropy,\n",
        "              optimizer=Adam(lr=0.001),\n",
        "              metrics=['accuracy'])\n",
        "\n",
        "#Training the model\n",
        "model.fit(X_train, train_y,\n",
        "          batch_size=batch_size,\n",
        "          epochs=epochs,\n",
        "          verbose=1,\n",
        "          validation_data=(X_test, test_y),\n",
        "          shuffle=True)"
      ],
      "execution_count": null,
      "outputs": [
        {
          "output_type": "stream",
          "text": [
            "Epoch 1/50\n",
            "449/449 [==============================] - 90s 129ms/step - loss: 2.2812 - accuracy: 0.2039 - val_loss: 1.8371 - val_accuracy: 0.2494\n",
            "Epoch 2/50\n",
            "449/449 [==============================] - 55s 123ms/step - loss: 1.8280 - accuracy: 0.2495 - val_loss: 1.7339 - val_accuracy: 0.2878\n",
            "Epoch 3/50\n",
            "449/449 [==============================] - 55s 123ms/step - loss: 1.7573 - accuracy: 0.2870 - val_loss: 1.6264 - val_accuracy: 0.3296\n",
            "Epoch 4/50\n",
            "449/449 [==============================] - 56s 124ms/step - loss: 1.6516 - accuracy: 0.3374 - val_loss: 1.5111 - val_accuracy: 0.4074\n",
            "Epoch 5/50\n",
            "449/449 [==============================] - 55s 124ms/step - loss: 1.5345 - accuracy: 0.3937 - val_loss: 1.4394 - val_accuracy: 0.4361\n",
            "Epoch 6/50\n",
            "449/449 [==============================] - 56s 124ms/step - loss: 1.4609 - accuracy: 0.4260 - val_loss: 1.3993 - val_accuracy: 0.4480\n",
            "Epoch 7/50\n",
            "449/449 [==============================] - 56s 124ms/step - loss: 1.4185 - accuracy: 0.4471 - val_loss: 1.3643 - val_accuracy: 0.4882\n",
            "Epoch 8/50\n",
            "449/449 [==============================] - 56s 124ms/step - loss: 1.3762 - accuracy: 0.4743 - val_loss: 1.2873 - val_accuracy: 0.5060\n",
            "Epoch 9/50\n",
            "449/449 [==============================] - 56s 124ms/step - loss: 1.3474 - accuracy: 0.4916 - val_loss: 1.2442 - val_accuracy: 0.5255\n",
            "Epoch 10/50\n",
            "449/449 [==============================] - 56s 124ms/step - loss: 1.3214 - accuracy: 0.4964 - val_loss: 1.2510 - val_accuracy: 0.5286\n",
            "Epoch 11/50\n",
            "449/449 [==============================] - 56s 124ms/step - loss: 1.2771 - accuracy: 0.5177 - val_loss: 1.2356 - val_accuracy: 0.5397\n",
            "Epoch 12/50\n",
            "449/449 [==============================] - 56s 124ms/step - loss: 1.2529 - accuracy: 0.5276 - val_loss: 1.2037 - val_accuracy: 0.5347\n",
            "Epoch 13/50\n",
            "449/449 [==============================] - 56s 124ms/step - loss: 1.2260 - accuracy: 0.5447 - val_loss: 1.1991 - val_accuracy: 0.5581\n",
            "Epoch 14/50\n",
            "449/449 [==============================] - 56s 124ms/step - loss: 1.2032 - accuracy: 0.5598 - val_loss: 1.1605 - val_accuracy: 0.5634\n",
            "Epoch 15/50\n",
            "449/449 [==============================] - 56s 124ms/step - loss: 1.1881 - accuracy: 0.5646 - val_loss: 1.1812 - val_accuracy: 0.5692\n",
            "Epoch 16/50\n",
            "449/449 [==============================] - 55s 124ms/step - loss: 1.1639 - accuracy: 0.5732 - val_loss: 1.1349 - val_accuracy: 0.5731\n",
            "Epoch 17/50\n",
            "449/449 [==============================] - 56s 124ms/step - loss: 1.1354 - accuracy: 0.5859 - val_loss: 1.1216 - val_accuracy: 0.5887\n",
            "Epoch 18/50\n",
            "449/449 [==============================] - 56s 124ms/step - loss: 1.1042 - accuracy: 0.5964 - val_loss: 1.1427 - val_accuracy: 0.5843\n",
            "Epoch 19/50\n",
            "449/449 [==============================] - 56s 124ms/step - loss: 1.0877 - accuracy: 0.6035 - val_loss: 1.0922 - val_accuracy: 0.6010\n",
            "Epoch 20/50\n",
            "449/449 [==============================] - 56s 124ms/step - loss: 1.0495 - accuracy: 0.6215 - val_loss: 1.1134 - val_accuracy: 0.5793\n",
            "Epoch 21/50\n",
            "449/449 [==============================] - 56s 124ms/step - loss: 1.0453 - accuracy: 0.6255 - val_loss: 1.0941 - val_accuracy: 0.5965\n",
            "Epoch 22/50\n",
            "449/449 [==============================] - 56s 124ms/step - loss: 1.0269 - accuracy: 0.6265 - val_loss: 1.0902 - val_accuracy: 0.5974\n",
            "Epoch 23/50\n",
            "449/449 [==============================] - 56s 124ms/step - loss: 1.0165 - accuracy: 0.6334 - val_loss: 1.0845 - val_accuracy: 0.6082\n",
            "Epoch 24/50\n",
            "449/449 [==============================] - 56s 124ms/step - loss: 0.9833 - accuracy: 0.6487 - val_loss: 1.0799 - val_accuracy: 0.6155\n",
            "Epoch 25/50\n",
            "449/449 [==============================] - 56s 124ms/step - loss: 0.9596 - accuracy: 0.6585 - val_loss: 1.0644 - val_accuracy: 0.6225\n",
            "Epoch 26/50\n",
            "449/449 [==============================] - 56s 124ms/step - loss: 0.9607 - accuracy: 0.6545 - val_loss: 1.0552 - val_accuracy: 0.6155\n",
            "Epoch 27/50\n",
            "449/449 [==============================] - 56s 124ms/step - loss: 0.9338 - accuracy: 0.6661 - val_loss: 1.0447 - val_accuracy: 0.6166\n",
            "Epoch 28/50\n",
            "449/449 [==============================] - 56s 124ms/step - loss: 0.9039 - accuracy: 0.6756 - val_loss: 1.0755 - val_accuracy: 0.6133\n",
            "Epoch 29/50\n",
            "449/449 [==============================] - 56s 124ms/step - loss: 0.8891 - accuracy: 0.6802 - val_loss: 1.0432 - val_accuracy: 0.6166\n",
            "Epoch 30/50\n",
            "449/449 [==============================] - 56s 124ms/step - loss: 0.8598 - accuracy: 0.6922 - val_loss: 1.0625 - val_accuracy: 0.6199\n",
            "Epoch 31/50\n",
            "449/449 [==============================] - 56s 124ms/step - loss: 0.8526 - accuracy: 0.6936 - val_loss: 1.0649 - val_accuracy: 0.6172\n",
            "Epoch 32/50\n",
            "449/449 [==============================] - 56s 124ms/step - loss: 0.8384 - accuracy: 0.6971 - val_loss: 1.0543 - val_accuracy: 0.6222\n",
            "Epoch 33/50\n",
            "449/449 [==============================] - 56s 124ms/step - loss: 0.8347 - accuracy: 0.7004 - val_loss: 1.0749 - val_accuracy: 0.6314\n",
            "Epoch 34/50\n",
            "449/449 [==============================] - 56s 124ms/step - loss: 0.8103 - accuracy: 0.7126 - val_loss: 1.0849 - val_accuracy: 0.6305\n",
            "Epoch 35/50\n",
            "449/449 [==============================] - 56s 124ms/step - loss: 0.8010 - accuracy: 0.7195 - val_loss: 1.0803 - val_accuracy: 0.6305\n",
            "Epoch 36/50\n",
            "449/449 [==============================] - 56s 124ms/step - loss: 0.7945 - accuracy: 0.7157 - val_loss: 1.0745 - val_accuracy: 0.6344\n",
            "Epoch 37/50\n",
            "449/449 [==============================] - 56s 124ms/step - loss: 0.7659 - accuracy: 0.7323 - val_loss: 1.0907 - val_accuracy: 0.6339\n",
            "Epoch 38/50\n",
            "449/449 [==============================] - 56s 124ms/step - loss: 0.7528 - accuracy: 0.7358 - val_loss: 1.0616 - val_accuracy: 0.6336\n",
            "Epoch 39/50\n",
            "449/449 [==============================] - 56s 124ms/step - loss: 0.7329 - accuracy: 0.7403 - val_loss: 1.1025 - val_accuracy: 0.6400\n",
            "Epoch 40/50\n",
            "449/449 [==============================] - 56s 124ms/step - loss: 0.7197 - accuracy: 0.7450 - val_loss: 1.0875 - val_accuracy: 0.6386\n",
            "Epoch 41/50\n",
            "449/449 [==============================] - 56s 124ms/step - loss: 0.7266 - accuracy: 0.7494 - val_loss: 1.1014 - val_accuracy: 0.6305\n",
            "Epoch 42/50\n",
            "449/449 [==============================] - 56s 124ms/step - loss: 0.6975 - accuracy: 0.7552 - val_loss: 1.1087 - val_accuracy: 0.6314\n",
            "Epoch 43/50\n",
            "449/449 [==============================] - 56s 124ms/step - loss: 0.7037 - accuracy: 0.7529 - val_loss: 1.1772 - val_accuracy: 0.6247\n",
            "Epoch 44/50\n",
            "449/449 [==============================] - 56s 124ms/step - loss: 0.6786 - accuracy: 0.7654 - val_loss: 1.1080 - val_accuracy: 0.6383\n",
            "Epoch 45/50\n",
            "449/449 [==============================] - 56s 124ms/step - loss: 0.6641 - accuracy: 0.7639 - val_loss: 1.1844 - val_accuracy: 0.6344\n",
            "Epoch 46/50\n",
            "449/449 [==============================] - 56s 124ms/step - loss: 0.6387 - accuracy: 0.7754 - val_loss: 1.1100 - val_accuracy: 0.6436\n",
            "Epoch 47/50\n",
            "449/449 [==============================] - 56s 124ms/step - loss: 0.6356 - accuracy: 0.7781 - val_loss: 1.1614 - val_accuracy: 0.6322\n",
            "Epoch 48/50\n",
            "449/449 [==============================] - 56s 124ms/step - loss: 0.6275 - accuracy: 0.7874 - val_loss: 1.1093 - val_accuracy: 0.6397\n",
            "Epoch 49/50\n",
            "449/449 [==============================] - 56s 124ms/step - loss: 0.6138 - accuracy: 0.7919 - val_loss: 1.1833 - val_accuracy: 0.6342\n",
            "Epoch 50/50\n",
            "449/449 [==============================] - 56s 124ms/step - loss: 0.6219 - accuracy: 0.7843 - val_loss: 1.1376 - val_accuracy: 0.6431\n"
          ],
          "name": "stdout"
        },
        {
          "output_type": "execute_result",
          "data": {
            "text/plain": [
              "<tensorflow.python.keras.callbacks.History at 0x7f32c7452750>"
            ]
          },
          "metadata": {
            "tags": []
          },
          "execution_count": 9
        }
      ]
    },
    {
      "cell_type": "code",
      "metadata": {
        "id": "Jn7v948Xmyzj"
      },
      "source": [
        "fer_json = model.to_json()\n",
        "with open(\"fernew10.json\", \"w\") as json_file:\n",
        "    json_file.write(fer_json)\n",
        "model.save_weights(\"fernew10.h5\")"
      ],
      "execution_count": null,
      "outputs": []
    },
    {
      "cell_type": "code",
      "metadata": {
        "id": "-RQGvOXIrOoS",
        "colab": {
          "base_uri": "https://localhost:8080/"
        },
        "outputId": "fb64baad-e313-417c-e240-e2cc3d7f75b9"
      },
      "source": [
        "score = model.evaluate(X_test, test_y, verbose=0)\n",
        "print (\"model %s: %.2f%%\" % (model.metrics_names[1], score[1]*100))"
      ],
      "execution_count": null,
      "outputs": [
        {
          "output_type": "stream",
          "text": [
            "model accuracy: 64.31%\n"
          ],
          "name": "stdout"
        }
      ]
    },
    {
      "cell_type": "code",
      "metadata": {
        "id": "iaj2jNreUdVZ",
        "colab": {
          "base_uri": "https://localhost:8080/",
          "height": 424
        },
        "outputId": "eb2b74c9-617f-4f30-8849-ba7dcb3c2941"
      },
      "source": [
        "\n",
        "y_prob = model.predict(X_test, batch_size=32, verbose=0)\n",
        "y_pred = [np.argmax(prob) for prob in y_prob]\n",
        "y_true = [np.argmax(true) for true in test_y]\n",
        "from sklearn.metrics import confusion_matrix\n",
        "\n",
        "emotions = ('angry', 'disgust', 'fear', 'happy', 'sad', 'surprise', 'neutral')\n",
        "def plot_confusion_matrix(y_true, y_pred, cmap=plt.cm.Blues):\n",
        "    \"\"\"\n",
        "    The function is used to construct the confusion matrix \n",
        "    \"\"\"\n",
        "    cm = confusion_matrix(y_true, y_pred)\n",
        "    fig = plt.figure(figsize=(6,6))\n",
        "    plt.rcParams.update({'font.size': 16})\n",
        "    ax  = fig.add_subplot(111)\n",
        "    matrix = ax.imshow(cm, interpolation='nearest', cmap=cmap)\n",
        "    fig.colorbar(matrix) \n",
        "    for i in range(0,7):\n",
        "        for j in range(0,7):  \n",
        "            ax.text(j,i,cm[i,j],va='center', ha='center')\n",
        "    ticks = np.arange(len(emotions))\n",
        "    ax.set_xticks(ticks)\n",
        "    ax.set_xticklabels(emotions, rotation=45)\n",
        "    ax.set_yticks(ticks)\n",
        "    ax.set_yticklabels(emotions)\n",
        "    plt.tight_layout()\n",
        "    plt.ylabel('True label')\n",
        "    plt.xlabel('Predicted label')\n",
        "\n",
        "plot_confusion_matrix(y_true, y_pred, cmap=plt.cm.YlGnBu)\n",
        "plt.show()"
      ],
      "execution_count": null,
      "outputs": [
        {
          "output_type": "display_data",
          "data": {
            "image/png": "[encoded data removed]",
            "text/plain": [
              "<Figure size 432x432 with 2 Axes>"
            ]
          },
          "metadata": {
            "tags": [],
            "needs_background": "light"
          }
        }
      ]
    }
  ]
}